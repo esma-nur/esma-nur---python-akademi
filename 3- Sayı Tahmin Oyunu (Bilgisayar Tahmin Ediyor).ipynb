{
 "cells": [
  {
   "cell_type": "code",
   "execution_count": 3,
   "metadata": {},
   "outputs": [
    {
     "name": "stdout",
     "output_type": "stream",
     "text": [
      "Yaşasın, doğru tahmin!!\n"
     ]
    }
   ],
   "source": [
    "from random import randint\n",
    "\n",
    "def bilgisayar_tahmini(benim_sayim):\n",
    "    baslangic = 1\n",
    "    bitis = 100\n",
    "    sonuc = \"\"\n",
    "    while sonuc != \"d\":\n",
    "        tahmin = randint(baslangic, bitis)\n",
    "\n",
    "        sonuc = input(f\"{tahmin} değeri aklından tuttuğun değerden büyükse (b), küçükse(k), doğruysa (d) yazınız.\").lower()\n",
    "        if sonuc == \"b\":         \n",
    "            bitis = tahmin - 1\n",
    "        elif sonuc == \"k\": \n",
    "            baslangic = tahmin + 1\n",
    "        else:\n",
    "            print(\"Yaşasın, doğru tahmin!!\")\n",
    "            break        \n",
    "\n",
    "bilgisayar_tahmini(40)"
   ]
  }
 ],
 "metadata": {
  "kernelspec": {
   "display_name": "Python 3.9.13 64-bit (microsoft store)",
   "language": "python",
   "name": "python3"
  },
  "language_info": {
   "codemirror_mode": {
    "name": "ipython",
    "version": 3
   },
   "file_extension": ".py",
   "mimetype": "text/x-python",
   "name": "python",
   "nbconvert_exporter": "python",
   "pygments_lexer": "ipython3",
   "version": "3.9.13"
  },
  "orig_nbformat": 4,
  "vscode": {
   "interpreter": {
    "hash": "6fda9bd0d925f1c319944d5af1229f4b9b97e7318e2995588464175656a1014a"
   }
  }
 },
 "nbformat": 4,
 "nbformat_minor": 2
}
