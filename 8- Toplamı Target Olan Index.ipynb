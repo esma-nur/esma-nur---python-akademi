{
 "cells": [
  {
   "cell_type": "markdown",
   "metadata": {},
   "source": [
    "Fonksiyon bir integer array nums ve bir hedef target değişkeni almalı ve bizlere toplamı target olan indexleri dönmeli.\n",
    "\n",
    "Kurallar: Aynı index’teki değeri iki defa kullanamayız.\n",
    "\n",
    "Örnek\n",
    "\n",
    "Parametreler: nums = [2, 7, 11, 15], target = 9\n",
    "Dönen Değer: [0, 1]\n",
    "Açıklama: nums[0] ve nums[1]'deki değerlerin toplamı 9 yaptığı için çıktımız [0, 1] oldu.\n",
    "\n",
    "Örnek\n",
    "\n",
    "Parametreler: nums = [3, 2, 4], target = 6\n",
    "Dönen Değer: [1, 2]\n",
    "Açıklama: nums[1] ve nums[2]'deki değerlerin toplamı 6 yaptığı için çıktımız [1, 2] oldu.\n",
    "Not: Burada [0,0] çıktı olarak kabul edilemez. Çünkü aynı index'i kullanamayacağımız söylenmişti.\n",
    "\n",
    "Örnek\n",
    "\n",
    "Parametreler: nums = [3, 2, 4, 1, 3], target = 7\n",
    "Dönen Değer: [2, 4]\n",
    "Açıklama: nums[2] ve nums[4]'deki değerlerin toplamı 7 yaptığı için çıktımız [2, 4] oldu."
   ]
  },
  {
   "cell_type": "code",
   "execution_count": 1,
   "metadata": {},
   "outputs": [
    {
     "data": {
      "text/plain": [
       "[0, 5]"
      ]
     },
     "execution_count": 1,
     "metadata": {},
     "output_type": "execute_result"
    }
   ],
   "source": [
    "def find_target(nums,target):\n",
    "    for i in range(len(nums)):\n",
    "        for j in range(len(nums)):\n",
    "            if i == j:\n",
    "                continue\n",
    "            if nums[i]+nums[j] == target:\n",
    "                return[i,j]\n",
    "find_target(nums = [4, 5, -3, 13, 7, 6], target = 10)"
   ]
  }
 ],
 "metadata": {
  "kernelspec": {
   "display_name": "Python 3.9.13 64-bit (microsoft store)",
   "language": "python",
   "name": "python3"
  },
  "language_info": {
   "codemirror_mode": {
    "name": "ipython",
    "version": 3
   },
   "file_extension": ".py",
   "mimetype": "text/x-python",
   "name": "python",
   "nbconvert_exporter": "python",
   "pygments_lexer": "ipython3",
   "version": "3.9.13"
  },
  "orig_nbformat": 4,
  "vscode": {
   "interpreter": {
    "hash": "6fda9bd0d925f1c319944d5af1229f4b9b97e7318e2995588464175656a1014a"
   }
  }
 },
 "nbformat": 4,
 "nbformat_minor": 2
}
