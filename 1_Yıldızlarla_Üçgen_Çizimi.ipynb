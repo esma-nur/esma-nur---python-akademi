{
  "nbformat": 4,
  "nbformat_minor": 0,
  "metadata": {
    "colab": {
      "provenance": [],
      "authorship_tag": "ABX9TyPINBU5OR5lpolr7zwpZ34t"
    },
    "kernelspec": {
      "name": "python3",
      "display_name": "Python 3"
    },
    "language_info": {
      "name": "python"
    }
  },
  "cells": [
    {
      "cell_type": "markdown",
      "source": [
        "Yıldızlarla Üçgen Çizimi\n",
        "\n",
        "* Döngüler kullanılarak yıldızlar ile üçgen çizimi yapılacak.\n",
        "* Aşağıdaki şekilleri elde etmemiz isteniyor:\n",
        "![yildizlarlaucgencizimi.png](data:image/png;base64,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)"
      ],
      "metadata": {
        "id": "RVPeC6mJn3ga"
      }
    },
    {
      "cell_type": "code",
      "source": [
        "#Birinci Şekil İçin:\n",
        "\n",
        "satir_sayisi = int(input(\"Bir sayı giriniz: \"))    #Kullanıcıdan sayı değeri alıyoruz\n",
        "\n",
        "for i in range(1, satir_sayisi + 1):\n",
        "    print(\"*\" * i)"
      ],
      "metadata": {
        "colab": {
          "base_uri": "https://localhost:8080/"
        },
        "id": "d6o_maONoDzz",
        "outputId": "7c57fc41-9751-4208-d2f0-a6f19b21e53d"
      },
      "execution_count": 1,
      "outputs": [
        {
          "output_type": "stream",
          "name": "stdout",
          "text": [
            "Bir sayı giriniz: 5\n",
            "*\n",
            "**\n",
            "***\n",
            "****\n",
            "*****\n"
          ]
        }
      ]
    },
    {
      "cell_type": "code",
      "source": [
        "#İkinci Şekil İçin:\n",
        "\n",
        "satir_sayisi = int(input(\"Bir sayı giriniz: \")) \n",
        "\n",
        "for i in range(satir_sayisi, 0, -1):\n",
        "    print(\"*\" * i)"
      ],
      "metadata": {
        "colab": {
          "base_uri": "https://localhost:8080/"
        },
        "id": "sujCVTPgoLae",
        "outputId": "75a5be4a-f914-4970-934e-9c520e77d262"
      },
      "execution_count": 2,
      "outputs": [
        {
          "output_type": "stream",
          "name": "stdout",
          "text": [
            "Bir sayı giriniz: 5\n",
            "*****\n",
            "****\n",
            "***\n",
            "**\n",
            "*\n"
          ]
        }
      ]
    },
    {
      "cell_type": "code",
      "source": [
        "#Üçüncü Şekil İçin:\n",
        "\n",
        "satir_sayisi = int(input(\"Bir sayı giriniz: \")) \n",
        "\n",
        "for i in range(1, satir_sayisi + 1):\n",
        "    bosluk_sayisi = satir_sayisi - i\n",
        "    yildiz_sayisi = i\n",
        "    print(\" \" * bosluk_sayisi + \"*\" * yildiz_sayisi)"
      ],
      "metadata": {
        "colab": {
          "base_uri": "https://localhost:8080/"
        },
        "id": "ojpkpagzoL9t",
        "outputId": "ffd00258-1e33-4a8f-f46b-bb157c87ca31"
      },
      "execution_count": 3,
      "outputs": [
        {
          "output_type": "stream",
          "name": "stdout",
          "text": [
            "Bir sayı giriniz: 5\n",
            "    *\n",
            "   **\n",
            "  ***\n",
            " ****\n",
            "*****\n"
          ]
        }
      ]
    },
    {
      "cell_type": "code",
      "source": [
        "#Dördüncü Şekil İçin:\n",
        "\n",
        "satir_sayisi = int(input(\"Bir sayı giriniz: \")) \n",
        "\n",
        "for i in range(1, satir_sayisi + 1):\n",
        "    bosluk_sayisi = i - 1\n",
        "    yildiz_sayisi = satir_sayisi - bosluk_sayisi\n",
        "    print(\" \" * bosluk_sayisi + \"*\" * yildiz_sayisi)"
      ],
      "metadata": {
        "colab": {
          "base_uri": "https://localhost:8080/"
        },
        "id": "9rKBZbgwoPqQ",
        "outputId": "84706cd1-467e-494e-b86a-d09cf6599b56"
      },
      "execution_count": 4,
      "outputs": [
        {
          "output_type": "stream",
          "name": "stdout",
          "text": [
            "Bir sayı giriniz: 5\n",
            "*****\n",
            " ****\n",
            "  ***\n",
            "   **\n",
            "    *\n"
          ]
        }
      ]
    },
    {
      "cell_type": "code",
      "source": [
        "#Beşinci Şekil İçin:\n",
        "\n",
        "satir_sayisi = int(input(\"Bir sayı giriniz: \"))\n",
        "\n",
        "for i in range(1, satir_sayisi + 1):\n",
        "    yildiz_sayisi = i * 2\n",
        "    bosluk_sayisi = satir_sayisi - i\n",
        "    print(\" \" * bosluk_sayisi + \"*\" * yildiz_sayisi + \" \" * bosluk_sayisi)"
      ],
      "metadata": {
        "colab": {
          "base_uri": "https://localhost:8080/"
        },
        "id": "43pu4ndaoVYM",
        "outputId": "f0e62dd4-7ffa-4fc8-b102-4116491610a5"
      },
      "execution_count": 7,
      "outputs": [
        {
          "output_type": "stream",
          "name": "stdout",
          "text": [
            "Bir sayı giriniz: 5\n",
            "    **    \n",
            "   ****   \n",
            "  ******  \n",
            " ******** \n",
            "**********\n"
          ]
        }
      ]
    },
    {
      "cell_type": "code",
      "source": [
        "#Altıncı Şekil İçin:\n",
        "\n",
        "satir_sayisi = int(input(\"Bir sayı giriniz: \"))\n",
        "\n",
        "for i in range(0, satir_sayisi):\n",
        "    bosluk_sayisi = i\n",
        "    yildiz_sayisi = 2 * (satir_sayisi - bosluk_sayisi)\n",
        "    print(\" \" * bosluk_sayisi + \"*\" * yildiz_sayisi + \" \" * bosluk_sayisi)"
      ],
      "metadata": {
        "colab": {
          "base_uri": "https://localhost:8080/"
        },
        "id": "ebcKP_xqoWC1",
        "outputId": "ec2b8d43-2be8-4a6e-8039-df601622caa3"
      },
      "execution_count": 8,
      "outputs": [
        {
          "output_type": "stream",
          "name": "stdout",
          "text": [
            "Bir sayı giriniz: 5\n",
            "**********\n",
            " ******** \n",
            "  ******  \n",
            "   ****   \n",
            "    **    \n"
          ]
        }
      ]
    },
    {
      "cell_type": "code",
      "source": [
        "#Yedinci Şekil İçin:\n",
        "\n",
        "satir_sayisi = int(input(\"Bir sayı giriniz: \"))\n",
        "\n",
        "for i in range(1, satir_sayisi + 1):\n",
        "    yildiz_sayisi = i\n",
        "    bosluk_sayisi = 2 * (satir_sayisi - i)\n",
        "    print(\"*\" * yildiz_sayisi + \" \" * bosluk_sayisi + \"*\" * yildiz_sayisi)"
      ],
      "metadata": {
        "colab": {
          "base_uri": "https://localhost:8080/"
        },
        "id": "cOxE4THjoY06",
        "outputId": "ff6a2978-e25e-4cad-d4ed-79509248369b"
      },
      "execution_count": 9,
      "outputs": [
        {
          "output_type": "stream",
          "name": "stdout",
          "text": [
            "Bir sayı giriniz: 5\n",
            "*        *\n",
            "**      **\n",
            "***    ***\n",
            "****  ****\n",
            "**********\n"
          ]
        }
      ]
    }
  ]
}