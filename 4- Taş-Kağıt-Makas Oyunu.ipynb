{
 "cells": [
  {
   "cell_type": "code",
   "execution_count": 2,
   "metadata": {},
   "outputs": [
    {
     "name": "stdout",
     "output_type": "stream",
     "text": [
      "Taş Kağıt Makas Oyununa Hoş geldiniz!\n",
      "-------------------------------------\n",
      "\n",
      "1 - Taş\n",
      "2 - Kağıt \n",
      "3 - Makas\n",
      "Oyundan çıkmak isterseniz bu değerler dışında bir değer giriniz\n",
      "Bilgisayarın Seçimi: 2\n",
      "\n",
      "Kazanan: Bilgisayar\n",
      "\n",
      "1 - Taş\n",
      "2 - Kağıt \n",
      "3 - Makas\n",
      "Oyundan çıkmak isterseniz bu değerler dışında bir değer giriniz\n",
      "Beraber, yeniden oynayınız\n",
      "\n",
      "1 - Taş\n",
      "2 - Kağıt \n",
      "3 - Makas\n",
      "Oyundan çıkmak isterseniz bu değerler dışında bir değer giriniz\n",
      "Beraber, yeniden oynayınız\n",
      "\n",
      "1 - Taş\n",
      "2 - Kağıt \n",
      "3 - Makas\n",
      "Oyundan çıkmak isterseniz bu değerler dışında bir değer giriniz\n",
      "\n",
      "\n",
      "Kullanıcı skoru 0 - Bilgisayarın skoru 100\n",
      "Kazanan Bilgisayar\n"
     ]
    }
   ],
   "source": [
    "import random\n",
    "oyuncu_skoru = bilgisayar_skoru = 0\n",
    "bilgisayar_secim = 0\n",
    "def sonucu_goster(kazanan = \"Bilgisayar\"):\n",
    "    print(f\"Bilgisayarın Seçimi: {bilgisayar_secim}\\n\\nKazanan: {kazanan}\")\n",
    "    global oyuncu_skoru, bilgisayar_skoru\n",
    "    if kazanan == \"Bilgisayar\":\n",
    "        bilgisayar_skoru += 100\n",
    "    else:\n",
    "        oyuncu_skoru += 100\n",
    "print(\"Taş Kağıt Makas Oyununa Hoş geldiniz!\\n\" + \"-\"*37)\n",
    "while True:\n",
    "    print(\"\\n1 - Taş\\n2 - Kağıt \\n3 - Makas\\nOyundan çıkmak isterseniz bu değerler dışında bir değer giriniz\")\n",
    "    oyuncu_secim = int(input(\"Seçiminizi yapınız\"))\n",
    "    bilgisayar_secim = random.choice([1, 2, 3])\n",
    "    if oyuncu_secim == bilgisayar_secim:\n",
    "        print(\"Beraber, yeniden oynayınız\")\n",
    "    elif oyuncu_secim  == 1:\n",
    "        if bilgisayar_secim == 2:\n",
    "            sonucu_goster()\n",
    "        elif bilgisayar_secim == 3:\n",
    "            sonucu_goster(\"Kullanıcı\")\n",
    "    elif oyuncu_secim  == 2:\n",
    "        if bilgisayar_secim == 1:\n",
    "            sonucu_goster(\"Kullanıcı\")\n",
    "        elif bilgisayar_secim == 3:\n",
    "            sonucu_goster()\n",
    "    elif oyuncu_secim  == 3:\n",
    "        if bilgisayar_secim == 1:\n",
    "            sonucu_goster()\n",
    "        elif bilgisayar_secim == 2:\n",
    "            sonucu_goster(\"Kullanıcı\")\n",
    "    else:\n",
    "        break\n",
    "print(f\"\\n\\nKullanıcı skoru {oyuncu_skoru} - Bilgisayarın skoru {bilgisayar_skoru}\")\n",
    "if oyuncu_skoru > bilgisayar_skoru: print(\"Kazanan Kullanıcı\")\n",
    "elif oyuncu_skoru < bilgisayar_skoru: print(\"Kazanan Bilgisayar\")\n",
    "else: print(\"Oyun Berabere\")"
   ]
  }
 ],
 "metadata": {
  "kernelspec": {
   "display_name": "Python 3.9.13 64-bit (microsoft store)",
   "language": "python",
   "name": "python3"
  },
  "language_info": {
   "codemirror_mode": {
    "name": "ipython",
    "version": 3
   },
   "file_extension": ".py",
   "mimetype": "text/x-python",
   "name": "python",
   "nbconvert_exporter": "python",
   "pygments_lexer": "ipython3",
   "version": "3.9.13"
  },
  "orig_nbformat": 4,
  "vscode": {
   "interpreter": {
    "hash": "6fda9bd0d925f1c319944d5af1229f4b9b97e7318e2995588464175656a1014a"
   }
  }
 },
 "nbformat": 4,
 "nbformat_minor": 2
}
